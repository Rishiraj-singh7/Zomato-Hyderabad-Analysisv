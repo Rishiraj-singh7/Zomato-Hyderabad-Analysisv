{
 "cells": [
  {
   "cell_type": "markdown",
   "metadata": {},
   "source": [
    "Importing Libraries"
   ]
  },
  {
   "cell_type": "code",
   "execution_count": 1,
   "metadata": {},
   "outputs": [],
   "source": [
    "import pandas as pd\n",
    "import numpy as np\n",
    "import matplotlib.pyplot as plt\n",
    "import seaborn as sns\n",
    "plt.style.use('dark_background')"
   ]
  },
  {
   "cell_type": "markdown",
   "metadata": {},
   "source": [
    "Reading CSV"
   ]
  },
  {
   "cell_type": "code",
   "execution_count": 2,
   "metadata": {},
   "outputs": [],
   "source": [
    "df = pd.read_csv('Hyderabad.csv')\n"
   ]
  },
  {
   "cell_type": "code",
   "execution_count": 3,
   "metadata": {},
   "outputs": [
    {
     "data": {
      "text/html": [
       "<div>\n",
       "<style scoped>\n",
       "    .dataframe tbody tr th:only-of-type {\n",
       "        vertical-align: middle;\n",
       "    }\n",
       "\n",
       "    .dataframe tbody tr th {\n",
       "        vertical-align: top;\n",
       "    }\n",
       "\n",
       "    .dataframe thead th {\n",
       "        text-align: right;\n",
       "    }\n",
       "</style>\n",
       "<table border=\"1\" class=\"dataframe\">\n",
       "  <thead>\n",
       "    <tr style=\"text-align: right;\">\n",
       "      <th></th>\n",
       "      <th>links</th>\n",
       "      <th>names</th>\n",
       "      <th>ratings</th>\n",
       "      <th>cuisine</th>\n",
       "      <th>price for one</th>\n",
       "    </tr>\n",
       "  </thead>\n",
       "  <tbody>\n",
       "    <tr>\n",
       "      <th>0</th>\n",
       "      <td>https://www.zomato.com/hyderabad/sahara-bakers...</td>\n",
       "      <td>Sahara Bakers</td>\n",
       "      <td>3.7</td>\n",
       "      <td>Chinese, Bakery, Sichuan, Pizza, Burger</td>\n",
       "      <td>100</td>\n",
       "    </tr>\n",
       "    <tr>\n",
       "      <th>1</th>\n",
       "      <td>https://www.zomato.com/hyderabad/kfc-abids/order</td>\n",
       "      <td>KFC</td>\n",
       "      <td>3.9</td>\n",
       "      <td>Burger, Fast Food, Biryani, Desserts, Beverages</td>\n",
       "      <td>100</td>\n",
       "    </tr>\n",
       "    <tr>\n",
       "      <th>2</th>\n",
       "      <td>https://www.zomato.com/hyderabad/subbaiah-gari...</td>\n",
       "      <td>Subbaiah Gari Hotel</td>\n",
       "      <td>4.1</td>\n",
       "      <td>South Indian, Andhra, Mithai</td>\n",
       "      <td>100</td>\n",
       "    </tr>\n",
       "    <tr>\n",
       "      <th>3</th>\n",
       "      <td>https://www.zomato.com/hyderabad/paradise-biry...</td>\n",
       "      <td>Paradise Biryani</td>\n",
       "      <td>3.9</td>\n",
       "      <td>Biryani, Kebab, Desserts, Beverages</td>\n",
       "      <td>100</td>\n",
       "    </tr>\n",
       "    <tr>\n",
       "      <th>4</th>\n",
       "      <td>https://www.zomato.com/hyderabad/pista-house-b...</td>\n",
       "      <td>Pista House Bakery</td>\n",
       "      <td>4.3</td>\n",
       "      <td>Fast Food, Sandwich, Pizza, Burger, Wraps, Rol...</td>\n",
       "      <td>100</td>\n",
       "    </tr>\n",
       "  </tbody>\n",
       "</table>\n",
       "</div>"
      ],
      "text/plain": [
       "                                               links                names  \\\n",
       "0  https://www.zomato.com/hyderabad/sahara-bakers...        Sahara Bakers   \n",
       "1   https://www.zomato.com/hyderabad/kfc-abids/order                  KFC   \n",
       "2  https://www.zomato.com/hyderabad/subbaiah-gari...  Subbaiah Gari Hotel   \n",
       "3  https://www.zomato.com/hyderabad/paradise-biry...     Paradise Biryani   \n",
       "4  https://www.zomato.com/hyderabad/pista-house-b...   Pista House Bakery   \n",
       "\n",
       "  ratings                                            cuisine  price for one  \n",
       "0     3.7            Chinese, Bakery, Sichuan, Pizza, Burger            100  \n",
       "1     3.9    Burger, Fast Food, Biryani, Desserts, Beverages            100  \n",
       "2     4.1                       South Indian, Andhra, Mithai            100  \n",
       "3     3.9                Biryani, Kebab, Desserts, Beverages            100  \n",
       "4     4.3  Fast Food, Sandwich, Pizza, Burger, Wraps, Rol...            100  "
      ]
     },
     "execution_count": 3,
     "metadata": {},
     "output_type": "execute_result"
    }
   ],
   "source": [
    "df.head()"
   ]
  },
  {
   "cell_type": "code",
   "execution_count": 4,
   "metadata": {},
   "outputs": [
    {
     "data": {
      "text/plain": [
       "(657, 5)"
      ]
     },
     "execution_count": 4,
     "metadata": {},
     "output_type": "execute_result"
    }
   ],
   "source": [
    "df.shape"
   ]
  },
  {
   "cell_type": "code",
   "execution_count": 5,
   "metadata": {},
   "outputs": [
    {
     "data": {
      "text/plain": [
       "Index(['links', 'names', 'ratings', 'cuisine', 'price for one'], dtype='object')"
      ]
     },
     "execution_count": 5,
     "metadata": {},
     "output_type": "execute_result"
    }
   ],
   "source": [
    "df.columns"
   ]
  },
  {
   "cell_type": "code",
   "execution_count": null,
   "metadata": {},
   "outputs": [],
   "source": []
  }
 ],
 "metadata": {
  "kernelspec": {
   "display_name": "Python 3.8.10 64-bit",
   "language": "python",
   "name": "python3"
  },
  "language_info": {
   "codemirror_mode": {
    "name": "ipython",
    "version": 3
   },
   "file_extension": ".py",
   "mimetype": "text/x-python",
   "name": "python",
   "nbconvert_exporter": "python",
   "pygments_lexer": "ipython3",
   "version": "3.8.10"
  },
  "orig_nbformat": 4,
  "vscode": {
   "interpreter": {
    "hash": "916dbcbb3f70747c44a77c7bcd40155683ae19c65e1c03b4aa3499c5328201f1"
   }
  }
 },
 "nbformat": 4,
 "nbformat_minor": 2
}
