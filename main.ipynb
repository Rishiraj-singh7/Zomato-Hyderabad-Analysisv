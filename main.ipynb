{
 "cells": [
  {
   "cell_type": "markdown",
   "metadata": {},
   "source": [
    "Importing Libraries"
   ]
  },
  {
   "cell_type": "code",
   "execution_count": 72,
   "metadata": {},
   "outputs": [],
   "source": [
    "import pandas as pd\n",
    "import numpy as np\n",
    "import matplotlib.pyplot as plt\n",
    "import seaborn as sns\n",
    "plt.style.use('dark_background')"
   ]
  },
  {
   "cell_type": "markdown",
   "metadata": {},
   "source": [
    "Reading CSV"
   ]
  },
  {
   "cell_type": "code",
   "execution_count": 73,
   "metadata": {},
   "outputs": [],
   "source": [
    "df = pd.read_csv('Hyderabad.csv')\n"
   ]
  },
  {
   "cell_type": "code",
   "execution_count": 74,
   "metadata": {},
   "outputs": [
    {
     "data": {
      "text/html": [
       "<div>\n",
       "<style scoped>\n",
       "    .dataframe tbody tr th:only-of-type {\n",
       "        vertical-align: middle;\n",
       "    }\n",
       "\n",
       "    .dataframe tbody tr th {\n",
       "        vertical-align: top;\n",
       "    }\n",
       "\n",
       "    .dataframe thead th {\n",
       "        text-align: right;\n",
       "    }\n",
       "</style>\n",
       "<table border=\"1\" class=\"dataframe\">\n",
       "  <thead>\n",
       "    <tr style=\"text-align: right;\">\n",
       "      <th></th>\n",
       "      <th>links</th>\n",
       "      <th>names</th>\n",
       "      <th>ratings</th>\n",
       "      <th>cuisine</th>\n",
       "      <th>price for one</th>\n",
       "    </tr>\n",
       "  </thead>\n",
       "  <tbody>\n",
       "    <tr>\n",
       "      <th>0</th>\n",
       "      <td>https://www.zomato.com/hyderabad/sahara-bakers...</td>\n",
       "      <td>Sahara Bakers</td>\n",
       "      <td>3.7</td>\n",
       "      <td>Chinese, Bakery, Sichuan, Pizza, Burger</td>\n",
       "      <td>100</td>\n",
       "    </tr>\n",
       "    <tr>\n",
       "      <th>1</th>\n",
       "      <td>https://www.zomato.com/hyderabad/kfc-abids/order</td>\n",
       "      <td>KFC</td>\n",
       "      <td>3.9</td>\n",
       "      <td>Burger, Fast Food, Biryani, Desserts, Beverages</td>\n",
       "      <td>100</td>\n",
       "    </tr>\n",
       "    <tr>\n",
       "      <th>2</th>\n",
       "      <td>https://www.zomato.com/hyderabad/subbaiah-gari...</td>\n",
       "      <td>Subbaiah Gari Hotel</td>\n",
       "      <td>4.1</td>\n",
       "      <td>South Indian, Andhra, Mithai</td>\n",
       "      <td>100</td>\n",
       "    </tr>\n",
       "    <tr>\n",
       "      <th>3</th>\n",
       "      <td>https://www.zomato.com/hyderabad/paradise-biry...</td>\n",
       "      <td>Paradise Biryani</td>\n",
       "      <td>3.9</td>\n",
       "      <td>Biryani, Kebab, Desserts, Beverages</td>\n",
       "      <td>100</td>\n",
       "    </tr>\n",
       "    <tr>\n",
       "      <th>4</th>\n",
       "      <td>https://www.zomato.com/hyderabad/pista-house-b...</td>\n",
       "      <td>Pista House Bakery</td>\n",
       "      <td>4.3</td>\n",
       "      <td>Fast Food, Sandwich, Pizza, Burger, Wraps, Rol...</td>\n",
       "      <td>100</td>\n",
       "    </tr>\n",
       "  </tbody>\n",
       "</table>\n",
       "</div>"
      ],
      "text/plain": [
       "                                               links                names  \\\n",
       "0  https://www.zomato.com/hyderabad/sahara-bakers...        Sahara Bakers   \n",
       "1   https://www.zomato.com/hyderabad/kfc-abids/order                  KFC   \n",
       "2  https://www.zomato.com/hyderabad/subbaiah-gari...  Subbaiah Gari Hotel   \n",
       "3  https://www.zomato.com/hyderabad/paradise-biry...     Paradise Biryani   \n",
       "4  https://www.zomato.com/hyderabad/pista-house-b...   Pista House Bakery   \n",
       "\n",
       "  ratings                                            cuisine  price for one  \n",
       "0     3.7            Chinese, Bakery, Sichuan, Pizza, Burger            100  \n",
       "1     3.9    Burger, Fast Food, Biryani, Desserts, Beverages            100  \n",
       "2     4.1                       South Indian, Andhra, Mithai            100  \n",
       "3     3.9                Biryani, Kebab, Desserts, Beverages            100  \n",
       "4     4.3  Fast Food, Sandwich, Pizza, Burger, Wraps, Rol...            100  "
      ]
     },
     "execution_count": 74,
     "metadata": {},
     "output_type": "execute_result"
    }
   ],
   "source": [
    "df.head()"
   ]
  },
  {
   "cell_type": "code",
   "execution_count": 75,
   "metadata": {},
   "outputs": [
    {
     "data": {
      "text/plain": [
       "(657, 5)"
      ]
     },
     "execution_count": 75,
     "metadata": {},
     "output_type": "execute_result"
    }
   ],
   "source": [
    "df.shape"
   ]
  },
  {
   "cell_type": "code",
   "execution_count": 76,
   "metadata": {},
   "outputs": [
    {
     "data": {
      "text/plain": [
       "Index(['links', 'names', 'ratings', 'cuisine', 'price for one'], dtype='object')"
      ]
     },
     "execution_count": 76,
     "metadata": {},
     "output_type": "execute_result"
    }
   ],
   "source": [
    "df.columns"
   ]
  },
  {
   "cell_type": "code",
   "execution_count": 77,
   "metadata": {},
   "outputs": [
    {
     "data": {
      "text/html": [
       "<div>\n",
       "<style scoped>\n",
       "    .dataframe tbody tr th:only-of-type {\n",
       "        vertical-align: middle;\n",
       "    }\n",
       "\n",
       "    .dataframe tbody tr th {\n",
       "        vertical-align: top;\n",
       "    }\n",
       "\n",
       "    .dataframe thead th {\n",
       "        text-align: right;\n",
       "    }\n",
       "</style>\n",
       "<table border=\"1\" class=\"dataframe\">\n",
       "  <thead>\n",
       "    <tr style=\"text-align: right;\">\n",
       "      <th></th>\n",
       "      <th>names</th>\n",
       "      <th>ratings</th>\n",
       "      <th>cuisine</th>\n",
       "      <th>price for one</th>\n",
       "    </tr>\n",
       "  </thead>\n",
       "  <tbody>\n",
       "    <tr>\n",
       "      <th>0</th>\n",
       "      <td>Sahara Bakers</td>\n",
       "      <td>3.7</td>\n",
       "      <td>Chinese, Bakery, Sichuan, Pizza, Burger</td>\n",
       "      <td>100</td>\n",
       "    </tr>\n",
       "    <tr>\n",
       "      <th>1</th>\n",
       "      <td>KFC</td>\n",
       "      <td>3.9</td>\n",
       "      <td>Burger, Fast Food, Biryani, Desserts, Beverages</td>\n",
       "      <td>100</td>\n",
       "    </tr>\n",
       "    <tr>\n",
       "      <th>2</th>\n",
       "      <td>Subbaiah Gari Hotel</td>\n",
       "      <td>4.1</td>\n",
       "      <td>South Indian, Andhra, Mithai</td>\n",
       "      <td>100</td>\n",
       "    </tr>\n",
       "    <tr>\n",
       "      <th>3</th>\n",
       "      <td>Paradise Biryani</td>\n",
       "      <td>3.9</td>\n",
       "      <td>Biryani, Kebab, Desserts, Beverages</td>\n",
       "      <td>100</td>\n",
       "    </tr>\n",
       "    <tr>\n",
       "      <th>4</th>\n",
       "      <td>Pista House Bakery</td>\n",
       "      <td>4.3</td>\n",
       "      <td>Fast Food, Sandwich, Pizza, Burger, Wraps, Rol...</td>\n",
       "      <td>100</td>\n",
       "    </tr>\n",
       "  </tbody>\n",
       "</table>\n",
       "</div>"
      ],
      "text/plain": [
       "                 names ratings  \\\n",
       "0        Sahara Bakers     3.7   \n",
       "1                  KFC     3.9   \n",
       "2  Subbaiah Gari Hotel     4.1   \n",
       "3     Paradise Biryani     3.9   \n",
       "4   Pista House Bakery     4.3   \n",
       "\n",
       "                                             cuisine  price for one  \n",
       "0            Chinese, Bakery, Sichuan, Pizza, Burger            100  \n",
       "1    Burger, Fast Food, Biryani, Desserts, Beverages            100  \n",
       "2                       South Indian, Andhra, Mithai            100  \n",
       "3                Biryani, Kebab, Desserts, Beverages            100  \n",
       "4  Fast Food, Sandwich, Pizza, Burger, Wraps, Rol...            100  "
      ]
     },
     "execution_count": 77,
     "metadata": {},
     "output_type": "execute_result"
    }
   ],
   "source": [
    "df = df.drop(['links'], axis = 1)\n",
    "df.head()"
   ]
  },
  {
   "cell_type": "code",
   "execution_count": 78,
   "metadata": {},
   "outputs": [
    {
     "name": "stdout",
     "output_type": "stream",
     "text": [
      "<class 'pandas.core.frame.DataFrame'>\n",
      "RangeIndex: 657 entries, 0 to 656\n",
      "Data columns (total 4 columns):\n",
      " #   Column         Non-Null Count  Dtype \n",
      "---  ------         --------------  ----- \n",
      " 0   names          657 non-null    object\n",
      " 1   ratings        657 non-null    object\n",
      " 2   cuisine        657 non-null    object\n",
      " 3   price for one  657 non-null    int64 \n",
      "dtypes: int64(1), object(3)\n",
      "memory usage: 20.7+ KB\n"
     ]
    }
   ],
   "source": [
    "df.info()"
   ]
  },
  {
   "cell_type": "markdown",
   "metadata": {},
   "source": [
    "Dropping Duplicates"
   ]
  },
  {
   "cell_type": "code",
   "execution_count": 79,
   "metadata": {},
   "outputs": [
    {
     "data": {
      "text/plain": [
       "(657, 4)"
      ]
     },
     "execution_count": 79,
     "metadata": {},
     "output_type": "execute_result"
    }
   ],
   "source": [
    "df.drop_duplicates(inplace = True)\n",
    "df.shape"
   ]
  },
  {
   "cell_type": "code",
   "execution_count": 80,
   "metadata": {},
   "outputs": [
    {
     "data": {
      "text/html": [
       "<div>\n",
       "<style scoped>\n",
       "    .dataframe tbody tr th:only-of-type {\n",
       "        vertical-align: middle;\n",
       "    }\n",
       "\n",
       "    .dataframe tbody tr th {\n",
       "        vertical-align: top;\n",
       "    }\n",
       "\n",
       "    .dataframe thead th {\n",
       "        text-align: right;\n",
       "    }\n",
       "</style>\n",
       "<table border=\"1\" class=\"dataframe\">\n",
       "  <thead>\n",
       "    <tr style=\"text-align: right;\">\n",
       "      <th></th>\n",
       "      <th>names</th>\n",
       "      <th>ratings</th>\n",
       "      <th>cuisine</th>\n",
       "      <th>price for one</th>\n",
       "    </tr>\n",
       "  </thead>\n",
       "  <tbody>\n",
       "    <tr>\n",
       "      <th>0</th>\n",
       "      <td>Sahara Bakers</td>\n",
       "      <td>3.7</td>\n",
       "      <td>Chinese, Bakery, Sichuan, Pizza, Burger</td>\n",
       "      <td>100</td>\n",
       "    </tr>\n",
       "    <tr>\n",
       "      <th>1</th>\n",
       "      <td>KFC</td>\n",
       "      <td>3.9</td>\n",
       "      <td>Burger, Fast Food, Biryani, Desserts, Beverages</td>\n",
       "      <td>100</td>\n",
       "    </tr>\n",
       "  </tbody>\n",
       "</table>\n",
       "</div>"
      ],
      "text/plain": [
       "           names ratings                                          cuisine  \\\n",
       "0  Sahara Bakers     3.7          Chinese, Bakery, Sichuan, Pizza, Burger   \n",
       "1            KFC     3.9  Burger, Fast Food, Biryani, Desserts, Beverages   \n",
       "\n",
       "   price for one  \n",
       "0            100  \n",
       "1            100  "
      ]
     },
     "execution_count": 80,
     "metadata": {},
     "output_type": "execute_result"
    }
   ],
   "source": [
    "df.head(2)"
   ]
  },
  {
   "cell_type": "markdown",
   "metadata": {},
   "source": [
    "Cleaning Rate Column"
   ]
  },
  {
   "cell_type": "code",
   "execution_count": 81,
   "metadata": {},
   "outputs": [
    {
     "data": {
      "text/plain": [
       "array(['3.7', '3.9', '4.1', '4.3', '4', '4.2', '4.4', '4.5', '3.8', '4.6',\n",
       "       '3.6', 'New', '3.4', '3.5', '3.1', '3.3', '2.7', '3.2', '-', '3',\n",
       "       '4.7', '2.8', '2.9', '2.6'], dtype=object)"
      ]
     },
     "execution_count": 81,
     "metadata": {},
     "output_type": "execute_result"
    }
   ],
   "source": [
    "df['ratings'].unique()"
   ]
  },
  {
   "cell_type": "code",
   "execution_count": 82,
   "metadata": {},
   "outputs": [
    {
     "data": {
      "text/plain": [
       "0    3.7\n",
       "1    3.9\n",
       "2    4.1\n",
       "3    3.9\n",
       "4    4.3\n",
       "Name: ratings, dtype: float64"
      ]
     },
     "execution_count": 82,
     "metadata": {},
     "output_type": "execute_result"
    }
   ],
   "source": [
    "def handlerate(value):\n",
    "    if(value=='New' or value=='-'):\n",
    "        return np.nan\n",
    "    else:\n",
    "        value = str(value).split('/')\n",
    "        value = value[0]\n",
    "        return float(value)\n",
    "    \n",
    "df['ratings'] = df['ratings'].apply(handlerate)\n",
    "df['ratings'].head()"
   ]
  },
  {
   "cell_type": "markdown",
   "metadata": {},
   "source": [
    "Filling Null Values in Rate Column with Mean"
   ]
  },
  {
   "cell_type": "code",
   "execution_count": 83,
   "metadata": {},
   "outputs": [
    {
     "data": {
      "text/plain": [
       "67"
      ]
     },
     "execution_count": 83,
     "metadata": {},
     "output_type": "execute_result"
    }
   ],
   "source": [
    "df['ratings'].isnull().sum()"
   ]
  },
  {
   "cell_type": "code",
   "execution_count": 84,
   "metadata": {},
   "outputs": [
    {
     "data": {
      "text/plain": [
       "0"
      ]
     },
     "execution_count": 84,
     "metadata": {},
     "output_type": "execute_result"
    }
   ],
   "source": [
    "df['ratings'].fillna(df['ratings'].mean(), inplace = True)\n",
    "df['ratings'].isnull().sum()"
   ]
  },
  {
   "cell_type": "code",
   "execution_count": 85,
   "metadata": {},
   "outputs": [
    {
     "name": "stdout",
     "output_type": "stream",
     "text": [
      "<class 'pandas.core.frame.DataFrame'>\n",
      "Int64Index: 657 entries, 0 to 656\n",
      "Data columns (total 4 columns):\n",
      " #   Column         Non-Null Count  Dtype  \n",
      "---  ------         --------------  -----  \n",
      " 0   names          657 non-null    object \n",
      " 1   ratings        657 non-null    float64\n",
      " 2   cuisine        657 non-null    object \n",
      " 3   price for one  657 non-null    int64  \n",
      "dtypes: float64(1), int64(1), object(2)\n",
      "memory usage: 25.7+ KB\n"
     ]
    }
   ],
   "source": [
    "df.info()"
   ]
  },
  {
   "cell_type": "markdown",
   "metadata": {},
   "source": [
    "Dropping Null Values"
   ]
  },
  {
   "cell_type": "code",
   "execution_count": 86,
   "metadata": {},
   "outputs": [
    {
     "data": {
      "text/html": [
       "<div>\n",
       "<style scoped>\n",
       "    .dataframe tbody tr th:only-of-type {\n",
       "        vertical-align: middle;\n",
       "    }\n",
       "\n",
       "    .dataframe tbody tr th {\n",
       "        vertical-align: top;\n",
       "    }\n",
       "\n",
       "    .dataframe thead th {\n",
       "        text-align: right;\n",
       "    }\n",
       "</style>\n",
       "<table border=\"1\" class=\"dataframe\">\n",
       "  <thead>\n",
       "    <tr style=\"text-align: right;\">\n",
       "      <th></th>\n",
       "      <th>names</th>\n",
       "      <th>ratings</th>\n",
       "      <th>cuisine</th>\n",
       "      <th>price for one</th>\n",
       "    </tr>\n",
       "  </thead>\n",
       "  <tbody>\n",
       "    <tr>\n",
       "      <th>0</th>\n",
       "      <td>Sahara Bakers</td>\n",
       "      <td>3.7</td>\n",
       "      <td>Chinese, Bakery, Sichuan, Pizza, Burger</td>\n",
       "      <td>100</td>\n",
       "    </tr>\n",
       "    <tr>\n",
       "      <th>1</th>\n",
       "      <td>KFC</td>\n",
       "      <td>3.9</td>\n",
       "      <td>Burger, Fast Food, Biryani, Desserts, Beverages</td>\n",
       "      <td>100</td>\n",
       "    </tr>\n",
       "    <tr>\n",
       "      <th>2</th>\n",
       "      <td>Subbaiah Gari Hotel</td>\n",
       "      <td>4.1</td>\n",
       "      <td>South Indian, Andhra, Mithai</td>\n",
       "      <td>100</td>\n",
       "    </tr>\n",
       "    <tr>\n",
       "      <th>3</th>\n",
       "      <td>Paradise Biryani</td>\n",
       "      <td>3.9</td>\n",
       "      <td>Biryani, Kebab, Desserts, Beverages</td>\n",
       "      <td>100</td>\n",
       "    </tr>\n",
       "    <tr>\n",
       "      <th>4</th>\n",
       "      <td>Pista House Bakery</td>\n",
       "      <td>4.3</td>\n",
       "      <td>Fast Food, Sandwich, Pizza, Burger, Wraps, Rol...</td>\n",
       "      <td>100</td>\n",
       "    </tr>\n",
       "  </tbody>\n",
       "</table>\n",
       "</div>"
      ],
      "text/plain": [
       "                 names  ratings  \\\n",
       "0        Sahara Bakers      3.7   \n",
       "1                  KFC      3.9   \n",
       "2  Subbaiah Gari Hotel      4.1   \n",
       "3     Paradise Biryani      3.9   \n",
       "4   Pista House Bakery      4.3   \n",
       "\n",
       "                                             cuisine  price for one  \n",
       "0            Chinese, Bakery, Sichuan, Pizza, Burger            100  \n",
       "1    Burger, Fast Food, Biryani, Desserts, Beverages            100  \n",
       "2                       South Indian, Andhra, Mithai            100  \n",
       "3                Biryani, Kebab, Desserts, Beverages            100  \n",
       "4  Fast Food, Sandwich, Pizza, Burger, Wraps, Rol...            100  "
      ]
     },
     "execution_count": 86,
     "metadata": {},
     "output_type": "execute_result"
    }
   ],
   "source": [
    "df.dropna(inplace = True)\n",
    "df.head()"
   ]
  },
  {
   "cell_type": "code",
   "execution_count": 87,
   "metadata": {},
   "outputs": [
    {
     "data": {
      "text/html": [
       "<div>\n",
       "<style scoped>\n",
       "    .dataframe tbody tr th:only-of-type {\n",
       "        vertical-align: middle;\n",
       "    }\n",
       "\n",
       "    .dataframe tbody tr th {\n",
       "        vertical-align: top;\n",
       "    }\n",
       "\n",
       "    .dataframe thead th {\n",
       "        text-align: right;\n",
       "    }\n",
       "</style>\n",
       "<table border=\"1\" class=\"dataframe\">\n",
       "  <thead>\n",
       "    <tr style=\"text-align: right;\">\n",
       "      <th></th>\n",
       "      <th>names</th>\n",
       "      <th>rates</th>\n",
       "      <th>cuisine</th>\n",
       "      <th>cost1person</th>\n",
       "    </tr>\n",
       "  </thead>\n",
       "  <tbody>\n",
       "    <tr>\n",
       "      <th>0</th>\n",
       "      <td>Sahara Bakers</td>\n",
       "      <td>3.7</td>\n",
       "      <td>Chinese, Bakery, Sichuan, Pizza, Burger</td>\n",
       "      <td>100</td>\n",
       "    </tr>\n",
       "    <tr>\n",
       "      <th>1</th>\n",
       "      <td>KFC</td>\n",
       "      <td>3.9</td>\n",
       "      <td>Burger, Fast Food, Biryani, Desserts, Beverages</td>\n",
       "      <td>100</td>\n",
       "    </tr>\n",
       "    <tr>\n",
       "      <th>2</th>\n",
       "      <td>Subbaiah Gari Hotel</td>\n",
       "      <td>4.1</td>\n",
       "      <td>South Indian, Andhra, Mithai</td>\n",
       "      <td>100</td>\n",
       "    </tr>\n",
       "    <tr>\n",
       "      <th>3</th>\n",
       "      <td>Paradise Biryani</td>\n",
       "      <td>3.9</td>\n",
       "      <td>Biryani, Kebab, Desserts, Beverages</td>\n",
       "      <td>100</td>\n",
       "    </tr>\n",
       "    <tr>\n",
       "      <th>4</th>\n",
       "      <td>Pista House Bakery</td>\n",
       "      <td>4.3</td>\n",
       "      <td>Fast Food, Sandwich, Pizza, Burger, Wraps, Rol...</td>\n",
       "      <td>100</td>\n",
       "    </tr>\n",
       "  </tbody>\n",
       "</table>\n",
       "</div>"
      ],
      "text/plain": [
       "                 names  rates  \\\n",
       "0        Sahara Bakers    3.7   \n",
       "1                  KFC    3.9   \n",
       "2  Subbaiah Gari Hotel    4.1   \n",
       "3     Paradise Biryani    3.9   \n",
       "4   Pista House Bakery    4.3   \n",
       "\n",
       "                                             cuisine  cost1person  \n",
       "0            Chinese, Bakery, Sichuan, Pizza, Burger          100  \n",
       "1    Burger, Fast Food, Biryani, Desserts, Beverages          100  \n",
       "2                       South Indian, Andhra, Mithai          100  \n",
       "3                Biryani, Kebab, Desserts, Beverages          100  \n",
       "4  Fast Food, Sandwich, Pizza, Burger, Wraps, Rol...          100  "
      ]
     },
     "execution_count": 87,
     "metadata": {},
     "output_type": "execute_result"
    }
   ],
   "source": [
    "df.rename(columns = {'ratings':'rates', 'price for one':'cost1person'}, inplace = True)\n",
    "df.head()"
   ]
  },
  {
   "cell_type": "code",
   "execution_count": 88,
   "metadata": {},
   "outputs": [
    {
     "data": {
      "text/plain": [
       "South Indian                                                                         67\n",
       "Bakery, Desserts                                                                     23\n",
       "Mithai, Street Food                                                                  22\n",
       "Mithai                                                                               14\n",
       "North Indian, Chinese                                                                13\n",
       "                                                                                     ..\n",
       "Chinese, North Indian, Sichuan                                                        1\n",
       "Mithai, Desserts, Street Food                                                         1\n",
       "Biryani, Cafe, North Indian, Continental, Street Food, Beverages, Desserts, Pizza     1\n",
       "South Indian, Street Food, Juices, Beverages                                          1\n",
       "Chinese, Momos                                                                        1\n",
       "Name: cuisine, Length: 396, dtype: int64"
      ]
     },
     "execution_count": 88,
     "metadata": {},
     "output_type": "execute_result"
    }
   ],
   "source": [
    "df['cuisine'].value_counts()"
   ]
  },
  {
   "cell_type": "code",
   "execution_count": 89,
   "metadata": {},
   "outputs": [
    {
     "data": {
      "text/plain": [
       "others                   506\n",
       "South Indian              67\n",
       "Bakery, Desserts          23\n",
       "Mithai, Street Food       22\n",
       "Mithai                    14\n",
       "North Indian, Chinese     13\n",
       "North Indian              12\n",
       "Name: cuisine, dtype: int64"
      ]
     },
     "execution_count": 89,
     "metadata": {},
     "output_type": "execute_result"
    }
   ],
   "source": [
    "cuisine = df['cuisine'].value_counts(ascending  = False)\n",
    "\n",
    "\n",
    "cuisine_lessthan100 = cuisine[cuisine<10]\n",
    "\n",
    "\n",
    "\n",
    "def handle_cuisine(value):\n",
    "    if(value in cuisine_lessthan100):\n",
    "        return 'others'\n",
    "    else:\n",
    "        return value\n",
    "        \n",
    "df['cuisine'] = df['cuisine'].apply(handle_cuisine)\n",
    "df['cuisine'].value_counts()"
   ]
  },
  {
   "cell_type": "code",
   "execution_count": 90,
   "metadata": {},
   "outputs": [
    {
     "data": {
      "text/plain": [
       "array([100, 150, 400,  50, 350, 300, 200, 250])"
      ]
     },
     "execution_count": 90,
     "metadata": {},
     "output_type": "execute_result"
    }
   ],
   "source": [
    "df['cost1person'].unique()\n"
   ]
  },
  {
   "cell_type": "code",
   "execution_count": 91,
   "metadata": {},
   "outputs": [],
   "source": [
    "#Removing , from cost1person Column (like 1,200 , 7,000)\n",
    "# def handlecomma(value):\n",
    "#     value = str(value)\n",
    "#     if ',' in value:\n",
    "#         value = value.replace(',', '')\n",
    "#         return float(value)\n",
    "#     else:\n",
    "#         return float(value)\n",
    "    \n",
    "# df['cost1person'] = df['cost1person'].apply(handlecomma)\n",
    "# df['cost1person'].unique()\n",
    "        \n"
   ]
  },
  {
   "cell_type": "code",
   "execution_count": 92,
   "metadata": {},
   "outputs": [
    {
     "data": {
      "text/html": [
       "<div>\n",
       "<style scoped>\n",
       "    .dataframe tbody tr th:only-of-type {\n",
       "        vertical-align: middle;\n",
       "    }\n",
       "\n",
       "    .dataframe tbody tr th {\n",
       "        vertical-align: top;\n",
       "    }\n",
       "\n",
       "    .dataframe thead th {\n",
       "        text-align: right;\n",
       "    }\n",
       "</style>\n",
       "<table border=\"1\" class=\"dataframe\">\n",
       "  <thead>\n",
       "    <tr style=\"text-align: right;\">\n",
       "      <th></th>\n",
       "      <th>names</th>\n",
       "      <th>rates</th>\n",
       "      <th>cuisine</th>\n",
       "      <th>cost1person</th>\n",
       "    </tr>\n",
       "  </thead>\n",
       "  <tbody>\n",
       "    <tr>\n",
       "      <th>0</th>\n",
       "      <td>Sahara Bakers</td>\n",
       "      <td>3.7</td>\n",
       "      <td>others</td>\n",
       "      <td>100</td>\n",
       "    </tr>\n",
       "    <tr>\n",
       "      <th>1</th>\n",
       "      <td>KFC</td>\n",
       "      <td>3.9</td>\n",
       "      <td>others</td>\n",
       "      <td>100</td>\n",
       "    </tr>\n",
       "    <tr>\n",
       "      <th>2</th>\n",
       "      <td>Subbaiah Gari Hotel</td>\n",
       "      <td>4.1</td>\n",
       "      <td>others</td>\n",
       "      <td>100</td>\n",
       "    </tr>\n",
       "    <tr>\n",
       "      <th>3</th>\n",
       "      <td>Paradise Biryani</td>\n",
       "      <td>3.9</td>\n",
       "      <td>others</td>\n",
       "      <td>100</td>\n",
       "    </tr>\n",
       "    <tr>\n",
       "      <th>4</th>\n",
       "      <td>Pista House Bakery</td>\n",
       "      <td>4.3</td>\n",
       "      <td>others</td>\n",
       "      <td>100</td>\n",
       "    </tr>\n",
       "  </tbody>\n",
       "</table>\n",
       "</div>"
      ],
      "text/plain": [
       "                 names  rates cuisine  cost1person\n",
       "0        Sahara Bakers    3.7  others          100\n",
       "1                  KFC    3.9  others          100\n",
       "2  Subbaiah Gari Hotel    4.1  others          100\n",
       "3     Paradise Biryani    3.9  others          100\n",
       "4   Pista House Bakery    4.3  others          100"
      ]
     },
     "execution_count": 92,
     "metadata": {},
     "output_type": "execute_result"
    }
   ],
   "source": [
    "df.head()"
   ]
  },
  {
   "cell_type": "markdown",
   "metadata": {},
   "source": [
    "Data is Clean, Lets jump to Visualization"
   ]
  },
  {
   "cell_type": "markdown",
   "metadata": {},
   "source": [
    "Count Plot of Various rates"
   ]
  },
  {
   "cell_type": "code",
   "execution_count": 93,
   "metadata": {},
   "outputs": [
    {
     "name": "stderr",
     "output_type": "stream",
     "text": [
      "/home/linux/.local/lib/python3.8/site-packages/seaborn/_decorators.py:36: FutureWarning: Pass the following variable as a keyword arg: x. From version 0.12, the only valid positional argument will be `data`, and passing other arguments without an explicit keyword will result in an error or misinterpretation.\n",
      "  warnings.warn(\n"
     ]
    },
    {
     "data": {
      "text/plain": [
       "(array([ 0,  1,  2,  3,  4,  5,  6,  7,  8,  9, 10, 11, 12, 13, 14, 15, 16,\n",
       "        17, 18, 19, 20, 21, 22]),\n",
       " [Text(0, 0, '2.6'),\n",
       "  Text(1, 0, '2.7'),\n",
       "  Text(2, 0, '2.8'),\n",
       "  Text(3, 0, '2.9'),\n",
       "  Text(4, 0, '3.0'),\n",
       "  Text(5, 0, '3.1'),\n",
       "  Text(6, 0, '3.2'),\n",
       "  Text(7, 0, '3.3'),\n",
       "  Text(8, 0, '3.4'),\n",
       "  Text(9, 0, '3.5'),\n",
       "  Text(10, 0, '3.6'),\n",
       "  Text(11, 0, '3.7'),\n",
       "  Text(12, 0, '3.8'),\n",
       "  Text(13, 0, '3.9'),\n",
       "  Text(14, 0, '3.946101694915254'),\n",
       "  Text(15, 0, '4.0'),\n",
       "  Text(16, 0, '4.1'),\n",
       "  Text(17, 0, '4.2'),\n",
       "  Text(18, 0, '4.3'),\n",
       "  Text(19, 0, '4.4'),\n",
       "  Text(20, 0, '4.5'),\n",
       "  Text(21, 0, '4.6'),\n",
       "  Text(22, 0, '4.7')])"
      ]
     },
     "execution_count": 93,
     "metadata": {},
     "output_type": "execute_result"
    },
    {
     "data": {
      "image/png": "[encoded data removed]",
      "text/plain": [
       "<Figure size 1152x720 with 1 Axes>"
      ]
     },
     "metadata": {
      "needs_background": "dark"
     },
     "output_type": "display_data"
    }
   ],
   "source": [
    "plt.figure(figsize = (16,10))\n",
    "ax = sns.countplot(df['rates'])\n",
    "plt.xticks(rotation=90)"
   ]
  },
  {
   "cell_type": "markdown",
   "metadata": {},
   "source": [
    "Visualizing cost1person"
   ]
  },
  {
   "cell_type": "code",
   "execution_count": 94,
   "metadata": {},
   "outputs": [
    {
     "name": "stderr",
     "output_type": "stream",
     "text": [
      "/home/linux/.local/lib/python3.8/site-packages/seaborn/_decorators.py:36: FutureWarning: Pass the following variable as a keyword arg: x. From version 0.12, the only valid positional argument will be `data`, and passing other arguments without an explicit keyword will result in an error or misinterpretation.\n",
      "  warnings.warn(\n"
     ]
    },
    {
     "data": {
      "text/plain": [
       "<AxesSubplot:xlabel='cost1person', ylabel='count'>"
      ]
     },
     "execution_count": 94,
     "metadata": {},
     "output_type": "execute_result"
    },
    {
     "data": {
      "image/png": "[encoded data removed]",
      "text/plain": [
       "<Figure size 432x432 with 1 Axes>"
      ]
     },
     "metadata": {
      "needs_background": "dark"
     },
     "output_type": "display_data"
    }
   ],
   "source": [
    "plt.figure(figsize = (6,6))\n",
    "sns.countplot(df['costdf1.plot(kind = 'bar', figsize = (15,8))1person'], palette = 'inferno')"
   ]
  },
  {
   "cell_type": "markdown",
   "metadata": {},
   "source": [
    "Visualizing names vs Rate"
   ]
  },
  {
   "cell_type": "code",
   "execution_count": 98,
   "metadata": {},
   "outputs": [
    {
     "data": {
      "text/plain": [
       "<AxesSubplot:xlabel='cost1person', ylabel='rates'>"
      ]
     },
     "execution_count": 98,
     "metadata": {},
     "output_type": "execute_result"
    },
    {
     "data": {
      "image/png": "[encoded data removed]",
      "text/plain": [
       "<Figure size 432x432 with 1 Axes>"
      ]
     },
     "metadata": {
      "needs_background": "dark"
     },
     "output_type": "display_data"
    }
   ],
   "source": [
    "plt.figure(figsize = (6,6))\n",
    "sns.boxplot(x = 'cost1person', y = 'rates', data = df)"
   ]
  },
  {
   "cell_type": "markdown",
   "metadata": {},
   "source": [
    "Visualizing cuisine Order Facility, cost1person Wise"
   ]
  },
  {
   "cell_type": "code",
   "execution_count": 102,
   "metadata": {},
   "outputs": [
    {
     "data": {
      "text/html": [
       "<div>\n",
       "<style scoped>\n",
       "    .dataframe tbody tr th:only-of-type {\n",
       "        vertical-align: middle;\n",
       "    }\n",
       "\n",
       "    .dataframe tbody tr th {\n",
       "        vertical-align: top;\n",
       "    }\n",
       "\n",
       "    .dataframe thead tr th {\n",
       "        text-align: left;\n",
       "    }\n",
       "\n",
       "    .dataframe thead tr:last-of-type th {\n",
       "        text-align: right;\n",
       "    }\n",
       "</style>\n",
       "<table border=\"1\" class=\"dataframe\">\n",
       "  <thead>\n",
       "    <tr>\n",
       "      <th></th>\n",
       "      <th colspan=\"8\" halign=\"left\">names</th>\n",
       "    </tr>\n",
       "    <tr>\n",
       "      <th>cost1person</th>\n",
       "      <th>50</th>\n",
       "      <th>100</th>\n",
       "      <th>150</th>\n",
       "      <th>200</th>\n",
       "      <th>250</th>\n",
       "      <th>300</th>\n",
       "      <th>350</th>\n",
       "      <th>400</th>\n",
       "    </tr>\n",
       "    <tr>\n",
       "      <th>cuisine</th>\n",
       "      <th></th>\n",
       "      <th></th>\n",
       "      <th></th>\n",
       "      <th></th>\n",
       "      <th></th>\n",
       "      <th></th>\n",
       "      <th></th>\n",
       "      <th></th>\n",
       "    </tr>\n",
       "  </thead>\n",
       "  <tbody>\n",
       "    <tr>\n",
       "      <th>Bakery, Desserts</th>\n",
       "      <td>1</td>\n",
       "      <td>10</td>\n",
       "      <td>7</td>\n",
       "      <td>0</td>\n",
       "      <td>1</td>\n",
       "      <td>0</td>\n",
       "      <td>4</td>\n",
       "      <td>0</td>\n",
       "    </tr>\n",
       "    <tr>\n",
       "      <th>Mithai</th>\n",
       "      <td>1</td>\n",
       "      <td>7</td>\n",
       "      <td>6</td>\n",
       "      <td>0</td>\n",
       "      <td>0</td>\n",
       "      <td>0</td>\n",
       "      <td>0</td>\n",
       "      <td>0</td>\n",
       "    </tr>\n",
       "    <tr>\n",
       "      <th>Mithai, Street Food</th>\n",
       "      <td>1</td>\n",
       "      <td>6</td>\n",
       "      <td>5</td>\n",
       "      <td>2</td>\n",
       "      <td>0</td>\n",
       "      <td>3</td>\n",
       "      <td>5</td>\n",
       "      <td>0</td>\n",
       "    </tr>\n",
       "    <tr>\n",
       "      <th>North Indian</th>\n",
       "      <td>0</td>\n",
       "      <td>6</td>\n",
       "      <td>0</td>\n",
       "      <td>0</td>\n",
       "      <td>1</td>\n",
       "      <td>0</td>\n",
       "      <td>4</td>\n",
       "      <td>1</td>\n",
       "    </tr>\n",
       "    <tr>\n",
       "      <th>North Indian, Chinese</th>\n",
       "      <td>0</td>\n",
       "      <td>2</td>\n",
       "      <td>4</td>\n",
       "      <td>1</td>\n",
       "      <td>1</td>\n",
       "      <td>3</td>\n",
       "      <td>2</td>\n",
       "      <td>0</td>\n",
       "    </tr>\n",
       "    <tr>\n",
       "      <th>South Indian</th>\n",
       "      <td>5</td>\n",
       "      <td>23</td>\n",
       "      <td>17</td>\n",
       "      <td>5</td>\n",
       "      <td>8</td>\n",
       "      <td>2</td>\n",
       "      <td>7</td>\n",
       "      <td>0</td>\n",
       "    </tr>\n",
       "    <tr>\n",
       "      <th>others</th>\n",
       "      <td>52</td>\n",
       "      <td>183</td>\n",
       "      <td>117</td>\n",
       "      <td>16</td>\n",
       "      <td>37</td>\n",
       "      <td>40</td>\n",
       "      <td>50</td>\n",
       "      <td>11</td>\n",
       "    </tr>\n",
       "  </tbody>\n",
       "</table>\n",
       "</div>"
      ],
      "text/plain": [
       "                      names                              \n",
       "cost1person             50   100  150 200 250 300 350 400\n",
       "cuisine                                                  \n",
       "Bakery, Desserts          1   10    7   0   1   0   4   0\n",
       "Mithai                    1    7    6   0   0   0   0   0\n",
       "Mithai, Street Food       1    6    5   2   0   3   5   0\n",
       "North Indian              0    6    0   0   1   0   4   1\n",
       "North Indian, Chinese     0    2    4   1   1   3   2   0\n",
       "South Indian              5   23   17   5   8   2   7   0\n",
       "others                   52  183  117  16  37  40  50  11"
      ]
     },
     "execution_count": 102,
     "metadata": {},
     "output_type": "execute_result"
    }
   ],
   "source": [
    "df1 = df.groupby(['cuisine','cost1person'])['names'].count()\n",
    "df1.to_csv('food_online.csv')\n",
    "df1 = pd.read_csv('food_online.csv')\n",
    "df1 = pd.pivot_table(df1, values=None, index=['cuisine'], columns=['cost1person'], fill_value=0, aggfunc=np.sum)\n",
    "df1"
   ]
  },
  {
   "cell_type": "code",
   "execution_count": 103,
   "metadata": {},
   "outputs": [
    {
     "data": {
      "text/plain": [
       "<AxesSubplot:xlabel='cuisine'>"
      ]
     },
     "execution_count": 103,
     "metadata": {},
     "output_type": "execute_result"
    },
    {
     "data": {
      "image/png": "[encoded data removed]",
      "text/plain": [
       "<Figure size 1080x576 with 1 Axes>"
      ]
     },
     "metadata": {
      "needs_background": "dark"
     },
     "output_type": "display_data"
    }
   ],
   "source": [
    "df1.plot(kind = 'bar', figsize = (15,8))"
   ]
  },
  {
   "cell_type": "code",
   "execution_count": 104,
   "metadata": {},
   "outputs": [
    {
     "data": {
      "text/html": [
       "<div>\n",
       "<style scoped>\n",
       "    .dataframe tbody tr th:only-of-type {\n",
       "        vertical-align: middle;\n",
       "    }\n",
       "\n",
       "    .dataframe tbody tr th {\n",
       "        vertical-align: top;\n",
       "    }\n",
       "\n",
       "    .dataframe thead th {\n",
       "        text-align: right;\n",
       "    }\n",
       "</style>\n",
       "<table border=\"1\" class=\"dataframe\">\n",
       "  <thead>\n",
       "    <tr style=\"text-align: right;\">\n",
       "      <th></th>\n",
       "      <th>names</th>\n",
       "      <th>rates</th>\n",
       "      <th>cuisine</th>\n",
       "      <th>cost1person</th>\n",
       "    </tr>\n",
       "  </thead>\n",
       "  <tbody>\n",
       "    <tr>\n",
       "      <th>0</th>\n",
       "      <td>Sahara Bakers</td>\n",
       "      <td>3.7</td>\n",
       "      <td>others</td>\n",
       "      <td>100</td>\n",
       "    </tr>\n",
       "  </tbody>\n",
       "</table>\n",
       "</div>"
      ],
      "text/plain": [
       "           names  rates cuisine  cost1person\n",
       "0  Sahara Bakers    3.7  others          100"
      ]
     },
     "execution_count": 104,
     "metadata": {},
     "output_type": "execute_result"
    }
   ],
   "source": [
    "df.head(1)"
   ]
  },
  {
   "cell_type": "markdown",
   "metadata": {},
   "source": [
    "Visualizing cuisine Table rates, names Wise"
   ]
  },
  {
   "cell_type": "code",
   "execution_count": 109,
   "metadata": {},
   "outputs": [
    {
     "data": {
      "text/html": [
       "<div>\n",
       "<style scoped>\n",
       "    .dataframe tbody tr th:only-of-type {\n",
       "        vertical-align: middle;\n",
       "    }\n",
       "\n",
       "    .dataframe tbody tr th {\n",
       "        vertical-align: top;\n",
       "    }\n",
       "\n",
       "    .dataframe thead tr th {\n",
       "        text-align: left;\n",
       "    }\n",
       "\n",
       "    .dataframe thead tr:last-of-type th {\n",
       "        text-align: right;\n",
       "    }\n",
       "</style>\n",
       "<table border=\"1\" class=\"dataframe\">\n",
       "  <thead>\n",
       "    <tr>\n",
       "      <th></th>\n",
       "      <th colspan=\"7\" halign=\"left\">names</th>\n",
       "    </tr>\n",
       "    <tr>\n",
       "      <th>cuisine</th>\n",
       "      <th>Bakery, Desserts</th>\n",
       "      <th>Mithai</th>\n",
       "      <th>Mithai, Street Food</th>\n",
       "      <th>North Indian</th>\n",
       "      <th>North Indian, Chinese</th>\n",
       "      <th>South Indian</th>\n",
       "      <th>others</th>\n",
       "    </tr>\n",
       "    <tr>\n",
       "      <th>rates</th>\n",
       "      <th></th>\n",
       "      <th></th>\n",
       "      <th></th>\n",
       "      <th></th>\n",
       "      <th></th>\n",
       "      <th></th>\n",
       "      <th></th>\n",
       "    </tr>\n",
       "  </thead>\n",
       "  <tbody>\n",
       "    <tr>\n",
       "      <th>2.600000</th>\n",
       "      <td>0</td>\n",
       "      <td>0</td>\n",
       "      <td>0</td>\n",
       "      <td>0</td>\n",
       "      <td>0</td>\n",
       "      <td>0</td>\n",
       "      <td>1</td>\n",
       "    </tr>\n",
       "    <tr>\n",
       "      <th>2.700000</th>\n",
       "      <td>0</td>\n",
       "      <td>0</td>\n",
       "      <td>0</td>\n",
       "      <td>0</td>\n",
       "      <td>0</td>\n",
       "      <td>0</td>\n",
       "      <td>1</td>\n",
       "    </tr>\n",
       "    <tr>\n",
       "      <th>2.800000</th>\n",
       "      <td>0</td>\n",
       "      <td>0</td>\n",
       "      <td>0</td>\n",
       "      <td>0</td>\n",
       "      <td>0</td>\n",
       "      <td>0</td>\n",
       "      <td>1</td>\n",
       "    </tr>\n",
       "    <tr>\n",
       "      <th>2.900000</th>\n",
       "      <td>1</td>\n",
       "      <td>0</td>\n",
       "      <td>0</td>\n",
       "      <td>0</td>\n",
       "      <td>0</td>\n",
       "      <td>0</td>\n",
       "      <td>1</td>\n",
       "    </tr>\n",
       "    <tr>\n",
       "      <th>3.000000</th>\n",
       "      <td>0</td>\n",
       "      <td>0</td>\n",
       "      <td>0</td>\n",
       "      <td>0</td>\n",
       "      <td>0</td>\n",
       "      <td>0</td>\n",
       "      <td>2</td>\n",
       "    </tr>\n",
       "    <tr>\n",
       "      <th>3.100000</th>\n",
       "      <td>0</td>\n",
       "      <td>0</td>\n",
       "      <td>0</td>\n",
       "      <td>0</td>\n",
       "      <td>0</td>\n",
       "      <td>1</td>\n",
       "      <td>6</td>\n",
       "    </tr>\n",
       "    <tr>\n",
       "      <th>3.200000</th>\n",
       "      <td>2</td>\n",
       "      <td>0</td>\n",
       "      <td>0</td>\n",
       "      <td>0</td>\n",
       "      <td>0</td>\n",
       "      <td>0</td>\n",
       "      <td>6</td>\n",
       "    </tr>\n",
       "    <tr>\n",
       "      <th>3.300000</th>\n",
       "      <td>1</td>\n",
       "      <td>0</td>\n",
       "      <td>0</td>\n",
       "      <td>0</td>\n",
       "      <td>0</td>\n",
       "      <td>3</td>\n",
       "      <td>1</td>\n",
       "    </tr>\n",
       "    <tr>\n",
       "      <th>3.400000</th>\n",
       "      <td>0</td>\n",
       "      <td>0</td>\n",
       "      <td>0</td>\n",
       "      <td>0</td>\n",
       "      <td>0</td>\n",
       "      <td>2</td>\n",
       "      <td>12</td>\n",
       "    </tr>\n",
       "    <tr>\n",
       "      <th>3.500000</th>\n",
       "      <td>2</td>\n",
       "      <td>0</td>\n",
       "      <td>0</td>\n",
       "      <td>1</td>\n",
       "      <td>0</td>\n",
       "      <td>5</td>\n",
       "      <td>23</td>\n",
       "    </tr>\n",
       "    <tr>\n",
       "      <th>3.600000</th>\n",
       "      <td>2</td>\n",
       "      <td>0</td>\n",
       "      <td>0</td>\n",
       "      <td>1</td>\n",
       "      <td>0</td>\n",
       "      <td>0</td>\n",
       "      <td>25</td>\n",
       "    </tr>\n",
       "    <tr>\n",
       "      <th>3.700000</th>\n",
       "      <td>1</td>\n",
       "      <td>0</td>\n",
       "      <td>2</td>\n",
       "      <td>1</td>\n",
       "      <td>0</td>\n",
       "      <td>2</td>\n",
       "      <td>38</td>\n",
       "    </tr>\n",
       "    <tr>\n",
       "      <th>3.800000</th>\n",
       "      <td>5</td>\n",
       "      <td>1</td>\n",
       "      <td>1</td>\n",
       "      <td>0</td>\n",
       "      <td>3</td>\n",
       "      <td>2</td>\n",
       "      <td>30</td>\n",
       "    </tr>\n",
       "    <tr>\n",
       "      <th>3.900000</th>\n",
       "      <td>3</td>\n",
       "      <td>2</td>\n",
       "      <td>1</td>\n",
       "      <td>2</td>\n",
       "      <td>1</td>\n",
       "      <td>5</td>\n",
       "      <td>48</td>\n",
       "    </tr>\n",
       "    <tr>\n",
       "      <th>3.946102</th>\n",
       "      <td>1</td>\n",
       "      <td>1</td>\n",
       "      <td>1</td>\n",
       "      <td>3</td>\n",
       "      <td>2</td>\n",
       "      <td>13</td>\n",
       "      <td>46</td>\n",
       "    </tr>\n",
       "    <tr>\n",
       "      <th>4.000000</th>\n",
       "      <td>2</td>\n",
       "      <td>0</td>\n",
       "      <td>1</td>\n",
       "      <td>1</td>\n",
       "      <td>2</td>\n",
       "      <td>13</td>\n",
       "      <td>84</td>\n",
       "    </tr>\n",
       "    <tr>\n",
       "      <th>4.100000</th>\n",
       "      <td>2</td>\n",
       "      <td>1</td>\n",
       "      <td>4</td>\n",
       "      <td>0</td>\n",
       "      <td>3</td>\n",
       "      <td>9</td>\n",
       "      <td>58</td>\n",
       "    </tr>\n",
       "    <tr>\n",
       "      <th>4.200000</th>\n",
       "      <td>1</td>\n",
       "      <td>1</td>\n",
       "      <td>3</td>\n",
       "      <td>1</td>\n",
       "      <td>2</td>\n",
       "      <td>5</td>\n",
       "      <td>49</td>\n",
       "    </tr>\n",
       "    <tr>\n",
       "      <th>4.300000</th>\n",
       "      <td>0</td>\n",
       "      <td>1</td>\n",
       "      <td>7</td>\n",
       "      <td>2</td>\n",
       "      <td>0</td>\n",
       "      <td>5</td>\n",
       "      <td>51</td>\n",
       "    </tr>\n",
       "    <tr>\n",
       "      <th>4.400000</th>\n",
       "      <td>0</td>\n",
       "      <td>3</td>\n",
       "      <td>1</td>\n",
       "      <td>0</td>\n",
       "      <td>0</td>\n",
       "      <td>2</td>\n",
       "      <td>15</td>\n",
       "    </tr>\n",
       "    <tr>\n",
       "      <th>4.500000</th>\n",
       "      <td>0</td>\n",
       "      <td>3</td>\n",
       "      <td>0</td>\n",
       "      <td>0</td>\n",
       "      <td>0</td>\n",
       "      <td>0</td>\n",
       "      <td>5</td>\n",
       "    </tr>\n",
       "    <tr>\n",
       "      <th>4.600000</th>\n",
       "      <td>0</td>\n",
       "      <td>0</td>\n",
       "      <td>1</td>\n",
       "      <td>0</td>\n",
       "      <td>0</td>\n",
       "      <td>0</td>\n",
       "      <td>3</td>\n",
       "    </tr>\n",
       "    <tr>\n",
       "      <th>4.700000</th>\n",
       "      <td>0</td>\n",
       "      <td>1</td>\n",
       "      <td>0</td>\n",
       "      <td>0</td>\n",
       "      <td>0</td>\n",
       "      <td>0</td>\n",
       "      <td>0</td>\n",
       "    </tr>\n",
       "  </tbody>\n",
       "</table>\n",
       "</div>"
      ],
      "text/plain": [
       "                    names                                          \\\n",
       "cuisine  Bakery, Desserts Mithai Mithai, Street Food North Indian   \n",
       "rates                                                               \n",
       "2.600000                0      0                   0            0   \n",
       "2.700000                0      0                   0            0   \n",
       "2.800000                0      0                   0            0   \n",
       "2.900000                1      0                   0            0   \n",
       "3.000000                0      0                   0            0   \n",
       "3.100000                0      0                   0            0   \n",
       "3.200000                2      0                   0            0   \n",
       "3.300000                1      0                   0            0   \n",
       "3.400000                0      0                   0            0   \n",
       "3.500000                2      0                   0            1   \n",
       "3.600000                2      0                   0            1   \n",
       "3.700000                1      0                   2            1   \n",
       "3.800000                5      1                   1            0   \n",
       "3.900000                3      2                   1            2   \n",
       "3.946102                1      1                   1            3   \n",
       "4.000000                2      0                   1            1   \n",
       "4.100000                2      1                   4            0   \n",
       "4.200000                1      1                   3            1   \n",
       "4.300000                0      1                   7            2   \n",
       "4.400000                0      3                   1            0   \n",
       "4.500000                0      3                   0            0   \n",
       "4.600000                0      0                   1            0   \n",
       "4.700000                0      1                   0            0   \n",
       "\n",
       "                                                    \n",
       "cuisine  North Indian, Chinese South Indian others  \n",
       "rates                                               \n",
       "2.600000                     0            0      1  \n",
       "2.700000                     0            0      1  \n",
       "2.800000                     0            0      1  \n",
       "2.900000                     0            0      1  \n",
       "3.000000                     0            0      2  \n",
       "3.100000                     0            1      6  \n",
       "3.200000                     0            0      6  \n",
       "3.300000                     0            3      1  \n",
       "3.400000                     0            2     12  \n",
       "3.500000                     0            5     23  \n",
       "3.600000                     0            0     25  \n",
       "3.700000                     0            2     38  \n",
       "3.800000                     3            2     30  \n",
       "3.900000                     1            5     48  \n",
       "3.946102                     2           13     46  \n",
       "4.000000                     2           13     84  \n",
       "4.100000                     3            9     58  \n",
       "4.200000                     2            5     49  \n",
       "4.300000                     0            5     51  \n",
       "4.400000                     0            2     15  \n",
       "4.500000                     0            0      5  \n",
       "4.600000                     0            0      3  \n",
       "4.700000                     0            0      0  "
      ]
     },
     "execution_count": 109,
     "metadata": {},
     "output_type": "execute_result"
    }
   ],
   "source": [
    "df2 = df.groupby(['rates','cuisine'])['names'].count()\n",
    "df2.to_csv('location_booktable.csv')\n",
    "df2 = pd.read_csv('location_booktable.csv')\n",
    "df2 = pd.pivot_table(df2, values=None, index=['rates'], columns=['cuisine'], fill_value=0, aggfunc=np.sum)\n",
    "df2"
   ]
  },
  {
   "cell_type": "code",
   "execution_count": 110,
   "metadata": {},
   "outputs": [
    {
     "data": {
      "text/plain": [
       "<AxesSubplot:xlabel='rates'>"
      ]
     },
     "execution_count": 110,
     "metadata": {},
     "output_type": "execute_result"
    },
    {
     "data": {
      "image/png": "[encoded data removed]",
      "text/plain": [
       "<Figure size 1080x576 with 1 Axes>"
      ]
     },
     "metadata": {
      "needs_background": "dark"
     },
     "output_type": "display_data"
    }
   ],
   "source": [
    "df2.plot(kind = 'bar', figsize = (15,8))"
   ]
  },
  {
   "cell_type": "code",
   "execution_count": null,
   "metadata": {},
   "outputs": [],
   "source": []
  }
 ],
 "metadata": {
  "kernelspec": {
   "display_name": "Python 3.8.10 64-bit",
   "language": "python",
   "name": "python3"
  },
  "language_info": {
   "codemirror_mode": {
    "name": "ipython",
    "version": 3
   },
   "file_extension": ".py",
   "mimetype": "text/x-python",
   "name": "python",
   "nbconvert_exporter": "python",
   "pygments_lexer": "ipython3",
   "version": "3.8.10"
  },
  "orig_nbformat": 4,
  "vscode": {
   "interpreter": {
    "hash": "916dbcbb3f70747c44a77c7bcd40155683ae19c65e1c03b4aa3499c5328201f1"
   }
  }
 },
 "nbformat": 4,
 "nbformat_minor": 2
}
